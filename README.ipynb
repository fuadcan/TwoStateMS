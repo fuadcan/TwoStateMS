{
 "cells": [
  {
   "cell_type": "markdown",
   "metadata": {},
   "source": [
    "# Two State MS-ARFIMA \n",
    "This repository consists R codes and helper files for MS-ARFIMA estimation proposed by Tsay and Hardle (2009). The repo also includes output gap analysis by Beylunioglu et.al. (2018).\n",
    "\n"
   ]
  },
  {
   "cell_type": "markdown",
   "metadata": {},
   "source": [
    "## Outline\n",
    "The codes can be decomposed to three steps; estimating parameters $ d,P,\\mu,\\sigma $ etc., reporting descriptive statistics of the results and generating plots. All outputs are saved to disk.\n",
    "\n",
    "Codes are designed in R project version 3.41 for Windows and developed in both Ubuntu 16.04 and Windows 8 64bit. To run the code trouble-free, please check your R version and save clone the repository into Documents folder.\n",
    "\n",
    "## Usage\n",
    "Run all the commands in main.R. The file contains commands used for reading, estimating parameters, reporting and plotting results for all pairs for each data. The preliminary results are saved in Results folder as .rda files. NOTE: The tables in these files are re-formed for the paper but both shares same outline."
   ]
  },
  {
   "cell_type": "markdown",
   "metadata": {},
   "source": [
    "### Codes\n",
    "- lnviD2.R: Estimates $ d $ and transition probabilities for a given series.\n",
    "\n",
    "    Inputs:\n",
    "    1. b: Initial set of parameters\n",
    "    2. w: series to be fitted MS-ARFIMA$ (0,d,0) \n",
    "\t\t \n",
    "    Output: Log-likelihood of the estimate\n"
   ]
  },
  {
   "cell_type": "markdown",
   "metadata": {},
   "source": [
    "\t\t \n",
    "- convDLV.R: Calls lnviD2.R for all log-differentiated gap series.\n",
    "\t\n",
    "    Input:\n",
    "\t\t\n",
    "\t\t\t\n",
    "\t1. yearOrRegion: Name of the data (1930,1940,Europe+G7,Europe+S\\&P,G7+S\\&P)\n",
    "\t\t\n",
    "\tOutputs: Parameter estimates for all gap series (both saved to disk and returned)\n",
    "\t\t\n"
   ]
  },
  {
   "cell_type": "markdown",
   "metadata": {},
   "source": [
    "- plotAll.R: Calls results which are corrected in main.R, extracts the path by using dlvPath.R, plots the path and saves to pathplots folder.\n",
    "\t\n",
    "\tInput:\n",
    "\t\t\n",
    "\t1. yearOrRegion: Name of the data (1930,1940,Europe+G7,Europe+S\\&P,G7+S\\&P)\n",
    "\t\t\n",
    "\tOutput: Plots are saved to disk\n",
    "\t\n"
   ]
  },
  {
   "cell_type": "markdown",
   "metadata": {},
   "source": [
    "- plotRejs.R: Calls results which are corrected in main.R, classifies results with $ d<1 $ as S (for stationary or mean reverting) and $ d\\geq 1 $ as N (for non-stationary), calculates and plots the ratio of the pairs with $ d<1 $ by time for a given dataset; then saves to plots folder.\n",
    "\t\t\n",
    "    Input:\n",
    "\t\t\t\n",
    "    1. yearOrRegion: Name of the data (1930,1940,Europe+G7,Europe+S\\&P,G7+S\\&P)\n",
    "\t\t\t\n",
    "    Output: Plots are saved to disk\t\n"
   ]
  },
  {
   "cell_type": "markdown",
   "metadata": {},
   "source": [
    "- main.R: Calls all above codes. Additionally processes outputs and saves to disk. The table in paper is generated and saved into ReplicationFiles folder as table.csv.\n"
   ]
  },
  {
   "cell_type": "markdown",
   "metadata": {},
   "source": [
    "## References\n",
    "\n",
    "Tsay, Wen-Jen, and Wolfgang Karl Härdle. \"A generalized ARFIMA process with Markov-switching fractional differencing parameter.\" Journal of Statistical Computation and Simulation 79.5 (2009): 731-745.\n",
    "\n",
    "Beylunioglu, Stengos, Yazgan. \"Regime Switching Output Convergence\" SNDE (2018), In publishing"
   ]
  },
  {
   "cell_type": "code",
   "execution_count": null,
   "metadata": {},
   "outputs": [],
   "source": []
  }
 ],
 "metadata": {
  "kernelspec": {
   "display_name": "R",
   "language": "R",
   "name": "ir"
  },
  "language_info": {
   "codemirror_mode": "r",
   "file_extension": ".r",
   "mimetype": "text/x-r-source",
   "name": "R",
   "pygments_lexer": "r",
   "version": "3.4.1"
  }
 },
 "nbformat": 4,
 "nbformat_minor": 2
}
